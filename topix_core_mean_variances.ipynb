{
 "cells": [
  {
   "cell_type": "code",
   "execution_count": 1,
   "metadata": {},
   "outputs": [
    {
     "name": "stderr",
     "output_type": "stream",
     "text": [
      "INFO:root:Fetched eq sec_master : 30\n",
      "INFO:root:Fetched 41,506 daily returns\n",
      "9984.T eret : 0.0013, vol : 0.027: 100%|██████████| 29/29 [00:00<00:00, 299.05it/s]  \n"
     ]
    }
   ],
   "source": [
    "from header import *\n",
    "from tqdm import tqdm\n",
    "from sampytools.list_utils import generate_comma_separated_text\n",
    "from utils.analytics import ewma_volatility\n",
    "\n",
    "# I want to compute mean return and volatilities of TOPIX Core30 stocks\n",
    "eqsmdf = pd.read_sql(\"SELECT * FROM eq_sec_master WHERE new_index_series_code_en='TOPIX Core30'\", engine)\n",
    "logging.info(f\"Fetched eq sec_master : {len(eqsmdf)}\")\n",
    "\n",
    "crdf = pd.read_sql(\n",
    "    f\"SELECT * FROM eq_returns WHERE ticker in ({generate_comma_separated_text(eqsmdf.ticker.unique())})\", engine)\n",
    "logging.info(f\"Fetched {len(crdf):,} daily returns\")\n",
    "crdf[\"adate\"] = pd.to_datetime(crdf[\"adate\"])\n",
    "\n",
    "# we will use daily returns since 2023 to compute mean returns and volatilities\n",
    "subcrdf = crdf[crdf[\"adate\"] >= \"2023\"][[\"adate\", \"ticker\", \"daily_ret\"]]\n",
    "\n",
    "tickers = list(subcrdf.ticker.unique())\n",
    "eqmvdf = pd.DataFrame({\"ticker\": tickers, \"eret\": 0.0, \"vol\": 0.0})\n",
    "\n",
    "with tqdm(total=len(tickers)) as pbar:\n",
    "    for idx, row in eqmvdf.iterrows():\n",
    "        ticker = row[\"ticker\"]\n",
    "        df = subcrdf[subcrdf[\"ticker\"] == ticker]\n",
    "        eret = df[\"daily_ret\"].mean()\n",
    "        vols = ewma_volatility(df[\"daily_ret\"], decay_factor=0.94)\n",
    "        eqvol = vols.iloc[-1]\n",
    "        eqmvdf.loc[idx, \"eret\"] = eret\n",
    "        eqmvdf.loc[idx, \"vol\"] = eqvol\n",
    "        pbar.set_description(f\"{ticker} eret : {eret:.2}, vol : {eqvol:.2}\")\n",
    "        pbar.update(1)\n"
   ]
  },
  {
   "cell_type": "code",
   "execution_count": 8,
   "metadata": {},
   "outputs": [
    {
     "data": {
      "text/plain": [
       "dict_keys(['eq_prices', 'eq_company_profile', 'eq_returns', 'eq_sec_master'])"
      ]
     },
     "execution_count": 8,
     "metadata": {},
     "output_type": "execute_result"
    }
   ],
   "source": [
    "# show all table names\n",
    "meta.tables.keys()"
   ]
  },
  {
   "cell_type": "code",
   "execution_count": null,
   "metadata": {},
   "outputs": [],
   "source": [
    "# let's load company profiles\n",
    "profdf=pd.read_sql(\"SELECT * FROM eq_company_profile\",engine)\n",
    "profdf.head()"
   ]
  },
  {
   "cell_type": "code",
   "execution_count": null,
   "metadata": {},
   "outputs": [
    {
     "data": {
      "text/html": [
       "<div>\n",
       "<style scoped>\n",
       "    .dataframe tbody tr th:only-of-type {\n",
       "        vertical-align: middle;\n",
       "    }\n",
       "\n",
       "    .dataframe tbody tr th {\n",
       "        vertical-align: top;\n",
       "    }\n",
       "\n",
       "    .dataframe thead th {\n",
       "        text-align: right;\n",
       "    }\n",
       "</style>\n",
       "<table border=\"1\" class=\"dataframe\">\n",
       "  <thead>\n",
       "    <tr style=\"text-align: right;\">\n",
       "      <th></th>\n",
       "      <th>id</th>\n",
       "      <th>ticker</th>\n",
       "      <th>weight_date</th>\n",
       "      <th>desc_en</th>\n",
       "      <th>desc_jp</th>\n",
       "      <th>industry_en</th>\n",
       "      <th>industry_jp</th>\n",
       "      <th>new_index_series_code_en</th>\n",
       "      <th>new_index_series_code_jp</th>\n",
       "      <th>component_weight</th>\n",
       "    </tr>\n",
       "  </thead>\n",
       "  <tbody>\n",
       "    <tr>\n",
       "      <th>0</th>\n",
       "      <td>1</td>\n",
       "      <td>1301.T</td>\n",
       "      <td>2020-03-31</td>\n",
       "      <td>KYOKUYO CO.,LTD.</td>\n",
       "      <td>極洋</td>\n",
       "      <td>Fishery, Agriculture and Forestry</td>\n",
       "      <td>水産・農林業</td>\n",
       "      <td>TOPIX Small 2</td>\n",
       "      <td>TOPIX Small 2</td>\n",
       "      <td>0.000061</td>\n",
       "    </tr>\n",
       "    <tr>\n",
       "      <th>1</th>\n",
       "      <td>2</td>\n",
       "      <td>1332.T</td>\n",
       "      <td>2020-03-31</td>\n",
       "      <td>Nippon Suisan Kaisha,Ltd.</td>\n",
       "      <td>日水</td>\n",
       "      <td>Fishery, Agriculture and Forestry</td>\n",
       "      <td>水産・農林業</td>\n",
       "      <td>TOPIX Mid400</td>\n",
       "      <td>TOPIX Mid400</td>\n",
       "      <td>0.000329</td>\n",
       "    </tr>\n",
       "    <tr>\n",
       "      <th>2</th>\n",
       "      <td>3</td>\n",
       "      <td>1333.T</td>\n",
       "      <td>2020-03-31</td>\n",
       "      <td>Maruha Nichiro Corporation</td>\n",
       "      <td>マルハニチロ</td>\n",
       "      <td>Fishery, Agriculture and Forestry</td>\n",
       "      <td>水産・農林業</td>\n",
       "      <td>TOPIX Mid400</td>\n",
       "      <td>TOPIX Mid400</td>\n",
       "      <td>0.000224</td>\n",
       "    </tr>\n",
       "    <tr>\n",
       "      <th>3</th>\n",
       "      <td>4</td>\n",
       "      <td>1352.T</td>\n",
       "      <td>2020-03-31</td>\n",
       "      <td>HOHSUI CORPORATION</td>\n",
       "      <td>ホウスイ</td>\n",
       "      <td>Wholesale Trade</td>\n",
       "      <td>卸売業</td>\n",
       "      <td>TOPIX Small 2</td>\n",
       "      <td>TOPIX Small 2</td>\n",
       "      <td>0.000003</td>\n",
       "    </tr>\n",
       "    <tr>\n",
       "      <th>4</th>\n",
       "      <td>5</td>\n",
       "      <td>1376.T</td>\n",
       "      <td>2020-03-31</td>\n",
       "      <td>KANEKO SEEDS CO.,LTD.</td>\n",
       "      <td>カネコ種苗</td>\n",
       "      <td>Fishery, Agriculture and Forestry</td>\n",
       "      <td>水産・農林業</td>\n",
       "      <td>TOPIX Small 2</td>\n",
       "      <td>TOPIX Small 2</td>\n",
       "      <td>0.000028</td>\n",
       "    </tr>\n",
       "  </tbody>\n",
       "</table>\n",
       "</div>"
      ],
      "text/plain": [
       "   id  ticker weight_date                     desc_en desc_jp  \\\n",
       "0   1  1301.T  2020-03-31            KYOKUYO CO.,LTD.      極洋   \n",
       "1   2  1332.T  2020-03-31   Nippon Suisan Kaisha,Ltd.      日水   \n",
       "2   3  1333.T  2020-03-31  Maruha Nichiro Corporation  マルハニチロ   \n",
       "3   4  1352.T  2020-03-31          HOHSUI CORPORATION    ホウスイ   \n",
       "4   5  1376.T  2020-03-31       KANEKO SEEDS CO.,LTD.   カネコ種苗   \n",
       "\n",
       "                         industry_en industry_jp new_index_series_code_en  \\\n",
       "0  Fishery, Agriculture and Forestry      水産・農林業            TOPIX Small 2   \n",
       "1  Fishery, Agriculture and Forestry      水産・農林業             TOPIX Mid400   \n",
       "2  Fishery, Agriculture and Forestry      水産・農林業             TOPIX Mid400   \n",
       "3                    Wholesale Trade         卸売業            TOPIX Small 2   \n",
       "4  Fishery, Agriculture and Forestry      水産・農林業            TOPIX Small 2   \n",
       "\n",
       "  new_index_series_code_jp  component_weight  \n",
       "0            TOPIX Small 2          0.000061  \n",
       "1             TOPIX Mid400          0.000329  \n",
       "2             TOPIX Mid400          0.000224  \n",
       "3            TOPIX Small 2          0.000003  \n",
       "4            TOPIX Small 2          0.000028  "
      ]
     },
     "execution_count": 9,
     "metadata": {},
     "output_type": "execute_result"
    }
   ],
   "source": [
    "# load sec_master\n",
    "smdf=pd.read_sql(\"SELECT * FROM eq_sec_master\",engine)\n",
    "smdf.head()"
   ]
  },
  {
   "cell_type": "code",
   "execution_count": 10,
   "metadata": {},
   "outputs": [
    {
     "data": {
      "text/plain": [
       "np.float64(1.000001)"
      ]
     },
     "execution_count": 10,
     "metadata": {},
     "output_type": "execute_result"
    }
   ],
   "source": [
    "smdf.component_weight.sum()"
   ]
  },
  {
   "cell_type": "code",
   "execution_count": 11,
   "metadata": {},
   "outputs": [
    {
     "name": "stderr",
     "output_type": "stream",
     "text": [
      "INFO:root:eq mean returns and volatilities length after merge : 29\n"
     ]
    }
   ],
   "source": [
    "# join eqmvdf which has mean returns and daily volatilities with company name, industry and weight in TOPIX index\n",
    "mrgmvdf=pd.merge(left=eqmvdf,right=smdf[[\"ticker\",\"desc_en\",\"industry_en\",\"component_weight\"]],on=\"ticker\",how=\"left\")\n",
    "logging.info(f\"eq mean returns and volatilities length after merge : {len(mrgmvdf)}\")"
   ]
  },
  {
   "cell_type": "code",
   "execution_count": 12,
   "metadata": {},
   "outputs": [
    {
     "data": {
      "text/html": [
       "<div>\n",
       "<style scoped>\n",
       "    .dataframe tbody tr th:only-of-type {\n",
       "        vertical-align: middle;\n",
       "    }\n",
       "\n",
       "    .dataframe tbody tr th {\n",
       "        vertical-align: top;\n",
       "    }\n",
       "\n",
       "    .dataframe thead th {\n",
       "        text-align: right;\n",
       "    }\n",
       "</style>\n",
       "<table border=\"1\" class=\"dataframe\">\n",
       "  <thead>\n",
       "    <tr style=\"text-align: right;\">\n",
       "      <th></th>\n",
       "      <th>ticker</th>\n",
       "      <th>eret</th>\n",
       "      <th>vol</th>\n",
       "      <th>desc_en</th>\n",
       "      <th>industry_en</th>\n",
       "      <th>component_weight</th>\n",
       "    </tr>\n",
       "  </thead>\n",
       "  <tbody>\n",
       "    <tr>\n",
       "      <th>0</th>\n",
       "      <td>2914.T</td>\n",
       "      <td>0.001083</td>\n",
       "      <td>0.013774</td>\n",
       "      <td>JAPAN TOBACCO INC.</td>\n",
       "      <td>Foods</td>\n",
       "      <td>0.005857</td>\n",
       "    </tr>\n",
       "    <tr>\n",
       "      <th>1</th>\n",
       "      <td>3382.T</td>\n",
       "      <td>0.000759</td>\n",
       "      <td>0.031072</td>\n",
       "      <td>Seven &amp; I Holdings Co.,Ltd.</td>\n",
       "      <td>Retail Trade</td>\n",
       "      <td>0.006977</td>\n",
       "    </tr>\n",
       "    <tr>\n",
       "      <th>2</th>\n",
       "      <td>4063.T</td>\n",
       "      <td>0.001431</td>\n",
       "      <td>0.017989</td>\n",
       "      <td>Shin-Etsu Chemical Co.,Ltd.</td>\n",
       "      <td>Chemicals</td>\n",
       "      <td>0.009137</td>\n",
       "    </tr>\n",
       "    <tr>\n",
       "      <th>3</th>\n",
       "      <td>4452.T</td>\n",
       "      <td>0.000480</td>\n",
       "      <td>0.012713</td>\n",
       "      <td>Kao Corporation</td>\n",
       "      <td>Chemicals</td>\n",
       "      <td>0.010705</td>\n",
       "    </tr>\n",
       "    <tr>\n",
       "      <th>4</th>\n",
       "      <td>4502.T</td>\n",
       "      <td>0.000120</td>\n",
       "      <td>0.010335</td>\n",
       "      <td>Takeda Pharmaceutical Company Limited</td>\n",
       "      <td>Pharmaceutical</td>\n",
       "      <td>0.013936</td>\n",
       "    </tr>\n",
       "  </tbody>\n",
       "</table>\n",
       "</div>"
      ],
      "text/plain": [
       "   ticker      eret       vol                                desc_en  \\\n",
       "0  2914.T  0.001083  0.013774                     JAPAN TOBACCO INC.   \n",
       "1  3382.T  0.000759  0.031072            Seven & I Holdings Co.,Ltd.   \n",
       "2  4063.T  0.001431  0.017989            Shin-Etsu Chemical Co.,Ltd.   \n",
       "3  4452.T  0.000480  0.012713                        Kao Corporation   \n",
       "4  4502.T  0.000120  0.010335  Takeda Pharmaceutical Company Limited   \n",
       "\n",
       "      industry_en  component_weight  \n",
       "0           Foods          0.005857  \n",
       "1    Retail Trade          0.006977  \n",
       "2       Chemicals          0.009137  \n",
       "3       Chemicals          0.010705  \n",
       "4  Pharmaceutical          0.013936  "
      ]
     },
     "execution_count": 12,
     "metadata": {},
     "output_type": "execute_result"
    }
   ],
   "source": [
    "mrgmvdf.head()"
   ]
  },
  {
   "cell_type": "code",
   "execution_count": 14,
   "metadata": {},
   "outputs": [],
   "source": [
    "# save data as list of JSON objects\n",
    "import pathlib\n",
    "folder=pathlib.Path.cwd()/\"datasets\"\n",
    "mrgmvdf.to_json(folder/\"topix_29core_mean_var.json\",orient=\"records\",index=False)"
   ]
  },
  {
   "cell_type": "code",
   "execution_count": 20,
   "metadata": {},
   "outputs": [
    {
     "name": "stdout",
     "output_type": "stream",
     "text": [
      "Daily returns are from 2023-01-04 00:00:00 to 2024-11-19 00:00:00\n"
     ]
    }
   ],
   "source": [
    "from sampytools.datetime_utils import to_yyyymmdd\n",
    "\n",
    "print(f\"Daily returns are from {subcrdf.adate.min()} to {subcrdf.adate.max()}\")\n"
   ]
  },
  {
   "cell_type": "code",
   "execution_count": null,
   "metadata": {},
   "outputs": [
    {
     "data": {
      "text/plain": [
       "<Axes: xlabel='Risk', ylabel='Mean return'>"
      ]
     },
     "execution_count": 5,
     "metadata": {},
     "output_type": "execute_result"
    },
    {
     "data": {
      "image/png": "[encoded data removed]",
      "text/plain": [
       "<Figure size 1000x600 with 1 Axes>"
      ]
     },
     "metadata": {},
     "output_type": "display_data"
    }
   ],
   "source": [
    "import matplotlib.pyplot as plt\n",
    "\n",
    "eqmvdf.plot(kind=\"scatter\",x=\"vol\",y=\"eret\",figsize=(10,6),xlabel=\"Risk\", ylabel=\"Mean return\")"
   ]
  }
 ],
 "metadata": {
  "kernelspec": {
   "display_name": "dl_312_venv",
   "language": "python",
   "name": "python3"
  },
  "language_info": {
   "codemirror_mode": {
    "name": "ipython",
    "version": 3
   },
   "file_extension": ".py",
   "mimetype": "text/x-python",
   "name": "python",
   "nbconvert_exporter": "python",
   "pygments_lexer": "ipython3",
   "version": "3.12.7"
  }
 },
 "nbformat": 4,
 "nbformat_minor": 2
}
